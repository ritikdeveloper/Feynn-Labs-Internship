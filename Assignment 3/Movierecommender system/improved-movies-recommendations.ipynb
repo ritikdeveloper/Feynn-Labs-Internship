{
 "cells": [
  {
   "cell_type": "code",
   "execution_count": 12,
   "id": "c95459e8",
   "metadata": {},
   "outputs": [
    {
     "name": "stdout",
     "output_type": "stream",
     "text": [
      "[16, 79, 68, 26, 31]\n"
     ]
    }
   ],
   "source": [
    "import numpy as np\n",
    "import pandas as pd\n",
    "from sklearn.feature_extraction.text import CountVectorizer\n",
    "from sklearn.metrics.pairwise import cosine_similarity\n",
    "from nltk.stem.porter import PorterStemmer\n",
    "import nltk\n",
    "import ast\n",
    "\n",
    "# Download NLTK data (if not already downloaded)\n",
    "#nltk.download('punkt')\n",
    "\n",
    "# Read the CSV files\n",
    "movies = pd.read_csv('tmdb_5000_movies.csv')\n",
    "credits = pd.read_csv('tmdb_5000_credits.csv')\n",
    "\n",
    "# Merge movies and credits dataframes\n",
    "movies = movies.merge(credits, on='title')\n",
    "\n",
    "# Select relevant columns\n",
    "movies = movies[['movie_id', 'title', 'overview', 'genres', 'keywords', 'cast', 'crew']]\n",
    "\n",
    "# Drop rows with missing values\n",
    "movies.dropna(inplace=True)\n",
    "\n",
    "# Convert genres, keywords, cast, and crew columns to lists of names\n",
    "def convert(obj):\n",
    "    names = []\n",
    "    for item in ast.literal_eval(obj):\n",
    "        names.append(item['name'])\n",
    "    return names\n",
    "\n",
    "movies['genres'] = movies['genres'].apply(convert)\n",
    "movies['keywords'] = movies['keywords'].apply(convert)\n",
    "\n",
    "def convertkey(obj):\n",
    "    names = []\n",
    "    counter = 0\n",
    "    for item in ast.literal_eval(obj):\n",
    "        if counter != 3:\n",
    "            names.append(item['name'])\n",
    "            counter += 1\n",
    "        else:\n",
    "            break\n",
    "    return names\n",
    "\n",
    "movies['cast'] = movies['cast'].apply(convertkey)\n",
    "\n",
    "def fetch_director(obj):\n",
    "    names = []\n",
    "    for item in ast.literal_eval(obj):\n",
    "        if item['job'] == 'Director':\n",
    "            names.append(item['name'])\n",
    "            break\n",
    "    return names\n",
    "\n",
    "movies['crew'] = movies['crew'].apply(fetch_director)\n",
    "\n",
    "# Preprocess the overview column\n",
    "stemmer = PorterStemmer()\n",
    "\n",
    "def preprocess_text(text):\n",
    "    stemmed_words = [stemmer.stem(word) for word in nltk.word_tokenize(text.lower())]\n",
    "    return \" \".join(stemmed_words)\n",
    "\n",
    "movies['overview'] = movies['overview'].apply(preprocess_text)\n",
    "\n",
    "# Combine relevant columns into a new 'tags' column\n",
    "movies['tags'] = movies['overview'] + ' ' + movies['genres'].apply(lambda x: ' '.join(x)) + ' ' + \\\n",
    "                  movies['keywords'].apply(lambda x: ' '.join(x)) + ' ' + \\\n",
    "                  movies['cast'].apply(lambda x: ' '.join(x)) + ' ' + movies['crew'].apply(lambda x: ' '.join(x))\n",
    "\n",
    "# Initialize the CountVectorizer\n",
    "cv = CountVectorizer(max_features=5000, stop_words='english')\n",
    "\n",
    "# Create the feature vectors\n",
    "vectors = cv.fit_transform(movies['tags']).toarray()\n",
    "\n",
    "# Compute cosine similarity\n",
    "similarity = cosine_similarity(vectors)\n",
    "\n",
    "# Function to recommend similar movies\n",
    "def recommend(movie):\n",
    "    movie_index = movies[movies['title'] == movie].index[0]\n",
    "    distances = similarity[movie_index]\n",
    "    movie_indices = sorted(list(enumerate(distances)), reverse=True, key=lambda x: x[1])[1:6]\n",
    "    recommended_movies = [i[0] for i in movie_indices]\n",
    "    return recommended_movies\n",
    "\n",
    "# Test the recommendation function\n",
    "recommendations = recommend('Avengers: Age of Ultron')\n",
    "print(recommendations)"
   ]
  },
  {
   "cell_type": "code",
   "execution_count": 4,
   "id": "cbec6f76",
   "metadata": {},
   "outputs": [],
   "source": [
    "import pickle\n",
    "pickle.dump(movies,open('movies.pkl','wb'))"
   ]
  },
  {
   "cell_type": "code",
   "execution_count": 6,
   "id": "2d7467c8",
   "metadata": {},
   "outputs": [
    {
     "data": {
      "text/plain": [
       "array(['Avatar', \"Pirates of the Caribbean: At World's End\", 'Spectre',\n",
       "       ..., 'Signed, Sealed, Delivered', 'Shanghai Calling',\n",
       "       'My Date with Drew'], dtype=object)"
      ]
     },
     "execution_count": 6,
     "metadata": {},
     "output_type": "execute_result"
    }
   ],
   "source": [
    "movies['title'].values"
   ]
  },
  {
   "cell_type": "code",
   "execution_count": 8,
   "id": "7af57b4e",
   "metadata": {},
   "outputs": [],
   "source": [
    "pickle.dump(movies.to_dict(),open('movies_dict.pkl','wb'))"
   ]
  },
  {
   "cell_type": "code",
   "execution_count": 9,
   "id": "aad1f97d",
   "metadata": {},
   "outputs": [],
   "source": [
    "pickle.dump(similarity,open('similarity.pkl','wb'))"
   ]
  },
  {
   "cell_type": "code",
   "execution_count": null,
   "id": "eb7c344b",
   "metadata": {},
   "outputs": [],
   "source": []
  }
 ],
 "metadata": {
  "kernelspec": {
   "display_name": "Python 3 (ipykernel)",
   "language": "python",
   "name": "python3"
  },
  "language_info": {
   "codemirror_mode": {
    "name": "ipython",
    "version": 3
   },
   "file_extension": ".py",
   "mimetype": "text/x-python",
   "name": "python",
   "nbconvert_exporter": "python",
   "pygments_lexer": "ipython3",
   "version": "3.9.13"
  }
 },
 "nbformat": 4,
 "nbformat_minor": 5
}
